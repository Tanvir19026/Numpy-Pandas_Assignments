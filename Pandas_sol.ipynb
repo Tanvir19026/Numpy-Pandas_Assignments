{
 "cells": [
  {
   "cell_type": "markdown",
   "id": "5ef77c62",
   "metadata": {},
   "source": [
    "# Module: Pandas Assignments\n",
    "## Lesson: Pandas\n",
    "### Assignment 1: DataFrame Creation and Indexing\n",
    "\n",
    "1. Create a Pandas DataFrame with 4 columns and 6 rows filled with random integers. Set the index to be the first column."
   ]
  },
  {
   "cell_type": "code",
   "execution_count": 1,
   "id": "18ad3c93",
   "metadata": {},
   "outputs": [
    {
     "data": {
      "application/vnd.microsoft.datawrangler.viewer.v0+json": {
       "columns": [
        {
         "name": "A",
         "rawType": "int32",
         "type": "integer"
        },
        {
         "name": "B",
         "rawType": "int32",
         "type": "integer"
        },
        {
         "name": "C",
         "rawType": "int32",
         "type": "integer"
        },
        {
         "name": "D",
         "rawType": "int32",
         "type": "integer"
        }
       ],
       "ref": "af6c3094-8656-4af4-9bb9-2a1c154f400d",
       "rows": [
        [
         "37",
         "69",
         "29",
         "25"
        ],
        [
         "61",
         "26",
         "89",
         "38"
        ],
        [
         "16",
         "74",
         "52",
         "48"
        ],
        [
         "88",
         "97",
         "87",
         "27"
        ],
        [
         "28",
         "3",
         "42",
         "60"
        ],
        [
         "60",
         "47",
         "78",
         "25"
        ]
       ],
       "shape": {
        "columns": 3,
        "rows": 6
       }
      },
      "text/html": [
       "<div>\n",
       "<style scoped>\n",
       "    .dataframe tbody tr th:only-of-type {\n",
       "        vertical-align: middle;\n",
       "    }\n",
       "\n",
       "    .dataframe tbody tr th {\n",
       "        vertical-align: top;\n",
       "    }\n",
       "\n",
       "    .dataframe thead th {\n",
       "        text-align: right;\n",
       "    }\n",
       "</style>\n",
       "<table border=\"1\" class=\"dataframe\">\n",
       "  <thead>\n",
       "    <tr style=\"text-align: right;\">\n",
       "      <th></th>\n",
       "      <th>B</th>\n",
       "      <th>C</th>\n",
       "      <th>D</th>\n",
       "    </tr>\n",
       "    <tr>\n",
       "      <th>A</th>\n",
       "      <th></th>\n",
       "      <th></th>\n",
       "      <th></th>\n",
       "    </tr>\n",
       "  </thead>\n",
       "  <tbody>\n",
       "    <tr>\n",
       "      <th>37</th>\n",
       "      <td>69</td>\n",
       "      <td>29</td>\n",
       "      <td>25</td>\n",
       "    </tr>\n",
       "    <tr>\n",
       "      <th>61</th>\n",
       "      <td>26</td>\n",
       "      <td>89</td>\n",
       "      <td>38</td>\n",
       "    </tr>\n",
       "    <tr>\n",
       "      <th>16</th>\n",
       "      <td>74</td>\n",
       "      <td>52</td>\n",
       "      <td>48</td>\n",
       "    </tr>\n",
       "    <tr>\n",
       "      <th>88</th>\n",
       "      <td>97</td>\n",
       "      <td>87</td>\n",
       "      <td>27</td>\n",
       "    </tr>\n",
       "    <tr>\n",
       "      <th>28</th>\n",
       "      <td>3</td>\n",
       "      <td>42</td>\n",
       "      <td>60</td>\n",
       "    </tr>\n",
       "    <tr>\n",
       "      <th>60</th>\n",
       "      <td>47</td>\n",
       "      <td>78</td>\n",
       "      <td>25</td>\n",
       "    </tr>\n",
       "  </tbody>\n",
       "</table>\n",
       "</div>"
      ],
      "text/plain": [
       "     B   C   D\n",
       "A             \n",
       "37  69  29  25\n",
       "61  26  89  38\n",
       "16  74  52  48\n",
       "88  97  87  27\n",
       "28   3  42  60\n",
       "60  47  78  25"
      ]
     },
     "execution_count": 1,
     "metadata": {},
     "output_type": "execute_result"
    }
   ],
   "source": [
    "import pandas as pd\n",
    "import numpy as np\n",
    "\n",
    "df=pd.DataFrame(np.random.randint(1,100,\n",
    "size=(6,4)\n",
    "),columns=['A','B','C','D'])\n",
    "df.set_index('A')\n",
    "\n"
   ]
  },
  {
   "cell_type": "markdown",
   "id": "ce3cffd1",
   "metadata": {},
   "source": [
    "2. Create a Pandas DataFrame with columns 'A', 'B', 'C' and index 'X', 'Y', 'Z'. Fill the DataFrame with random integers and access the element at row 'Y' and column 'B'."
   ]
  },
  {
   "cell_type": "code",
   "execution_count": 2,
   "id": "daa3e72e",
   "metadata": {},
   "outputs": [
    {
     "name": "stdout",
     "output_type": "stream",
     "text": [
      "55\n"
     ]
    },
    {
     "data": {
      "text/plain": [
       "\"df.iloc[1,1]\\ndf.loc['Y']\\ndf.loc['Y','B']\""
      ]
     },
     "execution_count": 2,
     "metadata": {},
     "output_type": "execute_result"
    }
   ],
   "source": [
    "df=pd.DataFrame(np.random.randint(1,100,\n",
    "size=(3,3)\n",
    "),columns=['A','B','C'],index=['X','Y','Z'])\n",
    "print(df.iloc[1,1])\n",
    "'''df.iloc[1,1]\n",
    "df.loc['Y']\n",
    "df.loc['Y','B']'''"
   ]
  },
  {
   "cell_type": "markdown",
   "id": "036afd63",
   "metadata": {},
   "source": [
    "### Assignment 2: DataFrame Operations\n",
    "\n",
    "1. Create a Pandas DataFrame with 3 columns and 5 rows filled with random integers. Add a new column that is the product of the first two columns.\n"
   ]
  },
  {
   "cell_type": "code",
   "execution_count": 3,
   "id": "db85f4cf",
   "metadata": {},
   "outputs": [
    {
     "data": {
      "application/vnd.microsoft.datawrangler.viewer.v0+json": {
       "columns": [
        {
         "name": "index",
         "rawType": "int64",
         "type": "integer"
        },
        {
         "name": "X",
         "rawType": "int32",
         "type": "integer"
        },
        {
         "name": "Y",
         "rawType": "int32",
         "type": "integer"
        },
        {
         "name": "Z",
         "rawType": "int32",
         "type": "integer"
        },
        {
         "name": "Mul",
         "rawType": "int32",
         "type": "integer"
        }
       ],
       "ref": "03117873-c9b9-4e21-9f06-f41b05b0e6b2",
       "rows": [
        [
         "0",
         "36",
         "44",
         "48",
         "1584"
        ],
        [
         "1",
         "33",
         "23",
         "16",
         "759"
        ],
        [
         "2",
         "29",
         "25",
         "29",
         "725"
        ],
        [
         "3",
         "19",
         "20",
         "45",
         "380"
        ],
        [
         "4",
         "1",
         "42",
         "24",
         "42"
        ]
       ],
       "shape": {
        "columns": 4,
        "rows": 5
       }
      },
      "text/html": [
       "<div>\n",
       "<style scoped>\n",
       "    .dataframe tbody tr th:only-of-type {\n",
       "        vertical-align: middle;\n",
       "    }\n",
       "\n",
       "    .dataframe tbody tr th {\n",
       "        vertical-align: top;\n",
       "    }\n",
       "\n",
       "    .dataframe thead th {\n",
       "        text-align: right;\n",
       "    }\n",
       "</style>\n",
       "<table border=\"1\" class=\"dataframe\">\n",
       "  <thead>\n",
       "    <tr style=\"text-align: right;\">\n",
       "      <th></th>\n",
       "      <th>X</th>\n",
       "      <th>Y</th>\n",
       "      <th>Z</th>\n",
       "      <th>Mul</th>\n",
       "    </tr>\n",
       "  </thead>\n",
       "  <tbody>\n",
       "    <tr>\n",
       "      <th>0</th>\n",
       "      <td>36</td>\n",
       "      <td>44</td>\n",
       "      <td>48</td>\n",
       "      <td>1584</td>\n",
       "    </tr>\n",
       "    <tr>\n",
       "      <th>1</th>\n",
       "      <td>33</td>\n",
       "      <td>23</td>\n",
       "      <td>16</td>\n",
       "      <td>759</td>\n",
       "    </tr>\n",
       "    <tr>\n",
       "      <th>2</th>\n",
       "      <td>29</td>\n",
       "      <td>25</td>\n",
       "      <td>29</td>\n",
       "      <td>725</td>\n",
       "    </tr>\n",
       "    <tr>\n",
       "      <th>3</th>\n",
       "      <td>19</td>\n",
       "      <td>20</td>\n",
       "      <td>45</td>\n",
       "      <td>380</td>\n",
       "    </tr>\n",
       "    <tr>\n",
       "      <th>4</th>\n",
       "      <td>1</td>\n",
       "      <td>42</td>\n",
       "      <td>24</td>\n",
       "      <td>42</td>\n",
       "    </tr>\n",
       "  </tbody>\n",
       "</table>\n",
       "</div>"
      ],
      "text/plain": [
       "    X   Y   Z   Mul\n",
       "0  36  44  48  1584\n",
       "1  33  23  16   759\n",
       "2  29  25  29   725\n",
       "3  19  20  45   380\n",
       "4   1  42  24    42"
      ]
     },
     "execution_count": 3,
     "metadata": {},
     "output_type": "execute_result"
    }
   ],
   "source": [
    "df = pd.DataFrame(np.random.randint(1, 51, size=(5, 3)), columns=['X', 'Y', 'Z'])\n",
    "df['Mul']=df['X']*df['Y']\n",
    "df"
   ]
  },
  {
   "cell_type": "markdown",
   "id": "81e8308f",
   "metadata": {},
   "source": [
    "2. Create a Pandas DataFrame with 3 columns and 4 rows filled with random integers. Compute the row-wise and column-wise sum."
   ]
  },
  {
   "cell_type": "code",
   "execution_count": 4,
   "id": "6a7eb045",
   "metadata": {},
   "outputs": [
    {
     "name": "stdout",
     "output_type": "stream",
     "text": [
      "\n",
      "row wise sum 0    1712\n",
      "1     831\n",
      "2     808\n",
      "3     464\n",
      "4     109\n",
      "dtype: int64\n",
      "Col wise sum:  X       118\n",
      "Y       154\n",
      "Z       162\n",
      "Mul    3490\n",
      "dtype: int64\n"
     ]
    },
    {
     "data": {
      "application/vnd.microsoft.datawrangler.viewer.v0+json": {
       "columns": [
        {
         "name": "index",
         "rawType": "int64",
         "type": "integer"
        },
        {
         "name": "X",
         "rawType": "int32",
         "type": "integer"
        },
        {
         "name": "Y",
         "rawType": "int32",
         "type": "integer"
        },
        {
         "name": "Z",
         "rawType": "int32",
         "type": "integer"
        },
        {
         "name": "Mul",
         "rawType": "int32",
         "type": "integer"
        }
       ],
       "ref": "b0c5023d-d45b-47d1-a889-279f1c12b216",
       "rows": [
        [
         "0",
         "36",
         "44",
         "48",
         "1584"
        ],
        [
         "1",
         "33",
         "23",
         "16",
         "759"
        ],
        [
         "2",
         "29",
         "25",
         "29",
         "725"
        ],
        [
         "3",
         "19",
         "20",
         "45",
         "380"
        ],
        [
         "4",
         "1",
         "42",
         "24",
         "42"
        ]
       ],
       "shape": {
        "columns": 4,
        "rows": 5
       }
      },
      "text/html": [
       "<div>\n",
       "<style scoped>\n",
       "    .dataframe tbody tr th:only-of-type {\n",
       "        vertical-align: middle;\n",
       "    }\n",
       "\n",
       "    .dataframe tbody tr th {\n",
       "        vertical-align: top;\n",
       "    }\n",
       "\n",
       "    .dataframe thead th {\n",
       "        text-align: right;\n",
       "    }\n",
       "</style>\n",
       "<table border=\"1\" class=\"dataframe\">\n",
       "  <thead>\n",
       "    <tr style=\"text-align: right;\">\n",
       "      <th></th>\n",
       "      <th>X</th>\n",
       "      <th>Y</th>\n",
       "      <th>Z</th>\n",
       "      <th>Mul</th>\n",
       "    </tr>\n",
       "  </thead>\n",
       "  <tbody>\n",
       "    <tr>\n",
       "      <th>0</th>\n",
       "      <td>36</td>\n",
       "      <td>44</td>\n",
       "      <td>48</td>\n",
       "      <td>1584</td>\n",
       "    </tr>\n",
       "    <tr>\n",
       "      <th>1</th>\n",
       "      <td>33</td>\n",
       "      <td>23</td>\n",
       "      <td>16</td>\n",
       "      <td>759</td>\n",
       "    </tr>\n",
       "    <tr>\n",
       "      <th>2</th>\n",
       "      <td>29</td>\n",
       "      <td>25</td>\n",
       "      <td>29</td>\n",
       "      <td>725</td>\n",
       "    </tr>\n",
       "    <tr>\n",
       "      <th>3</th>\n",
       "      <td>19</td>\n",
       "      <td>20</td>\n",
       "      <td>45</td>\n",
       "      <td>380</td>\n",
       "    </tr>\n",
       "    <tr>\n",
       "      <th>4</th>\n",
       "      <td>1</td>\n",
       "      <td>42</td>\n",
       "      <td>24</td>\n",
       "      <td>42</td>\n",
       "    </tr>\n",
       "  </tbody>\n",
       "</table>\n",
       "</div>"
      ],
      "text/plain": [
       "    X   Y   Z   Mul\n",
       "0  36  44  48  1584\n",
       "1  33  23  16   759\n",
       "2  29  25  29   725\n",
       "3  19  20  45   380\n",
       "4   1  42  24    42"
      ]
     },
     "execution_count": 4,
     "metadata": {},
     "output_type": "execute_result"
    }
   ],
   "source": [
    "\n",
    "row_sum=df.sum(axis=1)\n",
    "print('\\nrow wise sum',row_sum)\n",
    "\n",
    "col_sum=df.sum(axis=0)\n",
    "print('Col wise sum: ',col_sum)\n",
    "df"
   ]
  },
  {
   "cell_type": "markdown",
   "id": "eb05a2a7",
   "metadata": {},
   "source": [
    "### Assignment 3: Data Cleaning\n",
    "\n",
    "1. Create a Pandas DataFrame with 3 columns and 5 rows filled with random integers. Introduce some NaN values. Fill the NaN values with the mean of the respective columns."
   ]
  },
  {
   "cell_type": "code",
   "execution_count": 5,
   "id": "303591cd",
   "metadata": {},
   "outputs": [
    {
     "data": {
      "application/vnd.microsoft.datawrangler.viewer.v0+json": {
       "columns": [
        {
         "name": "index",
         "rawType": "int64",
         "type": "integer"
        },
        {
         "name": "A",
         "rawType": "float64",
         "type": "float"
        },
        {
         "name": "B",
         "rawType": "int32",
         "type": "integer"
        },
        {
         "name": "C",
         "rawType": "float64",
         "type": "float"
        }
       ],
       "ref": "e07392be-24f4-4ae4-8565-4c42ae8e805a",
       "rows": [
        [
         "0",
         "5.0",
         "81",
         "99.0"
        ],
        [
         "1",
         null,
         "59",
         "60.0"
        ],
        [
         "2",
         "80.0",
         "31",
         "1.0"
        ],
        [
         "3",
         "55.0",
         "18",
         null
        ],
        [
         "4",
         "7.0",
         "78",
         "87.0"
        ]
       ],
       "shape": {
        "columns": 3,
        "rows": 5
       }
      },
      "text/html": [
       "<div>\n",
       "<style scoped>\n",
       "    .dataframe tbody tr th:only-of-type {\n",
       "        vertical-align: middle;\n",
       "    }\n",
       "\n",
       "    .dataframe tbody tr th {\n",
       "        vertical-align: top;\n",
       "    }\n",
       "\n",
       "    .dataframe thead th {\n",
       "        text-align: right;\n",
       "    }\n",
       "</style>\n",
       "<table border=\"1\" class=\"dataframe\">\n",
       "  <thead>\n",
       "    <tr style=\"text-align: right;\">\n",
       "      <th></th>\n",
       "      <th>A</th>\n",
       "      <th>B</th>\n",
       "      <th>C</th>\n",
       "    </tr>\n",
       "  </thead>\n",
       "  <tbody>\n",
       "    <tr>\n",
       "      <th>0</th>\n",
       "      <td>5.0</td>\n",
       "      <td>81</td>\n",
       "      <td>99.0</td>\n",
       "    </tr>\n",
       "    <tr>\n",
       "      <th>1</th>\n",
       "      <td>NaN</td>\n",
       "      <td>59</td>\n",
       "      <td>60.0</td>\n",
       "    </tr>\n",
       "    <tr>\n",
       "      <th>2</th>\n",
       "      <td>80.0</td>\n",
       "      <td>31</td>\n",
       "      <td>1.0</td>\n",
       "    </tr>\n",
       "    <tr>\n",
       "      <th>3</th>\n",
       "      <td>55.0</td>\n",
       "      <td>18</td>\n",
       "      <td>NaN</td>\n",
       "    </tr>\n",
       "    <tr>\n",
       "      <th>4</th>\n",
       "      <td>7.0</td>\n",
       "      <td>78</td>\n",
       "      <td>87.0</td>\n",
       "    </tr>\n",
       "  </tbody>\n",
       "</table>\n",
       "</div>"
      ],
      "text/plain": [
       "      A   B     C\n",
       "0   5.0  81  99.0\n",
       "1   NaN  59  60.0\n",
       "2  80.0  31   1.0\n",
       "3  55.0  18   NaN\n",
       "4   7.0  78  87.0"
      ]
     },
     "execution_count": 5,
     "metadata": {},
     "output_type": "execute_result"
    }
   ],
   "source": [
    "df = pd.DataFrame(np.random.randint(1, 101, size=(5, 3)), columns=['A', 'B', 'C'])\n",
    "df.iloc[1, 0] = np.nan  # set A[1] to NaN\n",
    "df.iloc[3, 2] = np.nan  # set C[3] to NaN\n",
    "\n",
    "df"
   ]
  },
  {
   "cell_type": "code",
   "execution_count": 6,
   "id": "5d205b32",
   "metadata": {},
   "outputs": [
    {
     "data": {
      "application/vnd.microsoft.datawrangler.viewer.v0+json": {
       "columns": [
        {
         "name": "index",
         "rawType": "object",
         "type": "string"
        },
        {
         "name": "0",
         "rawType": "int64",
         "type": "integer"
        }
       ],
       "ref": "cbd3a31b-eb1a-41a5-b6ae-006f190b7ee5",
       "rows": [
        [
         "A",
         "1"
        ],
        [
         "B",
         "0"
        ],
        [
         "C",
         "1"
        ]
       ],
       "shape": {
        "columns": 1,
        "rows": 3
       }
      },
      "text/plain": [
       "A    1\n",
       "B    0\n",
       "C    1\n",
       "dtype: int64"
      ]
     },
     "execution_count": 6,
     "metadata": {},
     "output_type": "execute_result"
    }
   ],
   "source": [
    "df.isnull().sum()"
   ]
  },
  {
   "cell_type": "code",
   "execution_count": 7,
   "id": "f01031d8",
   "metadata": {},
   "outputs": [
    {
     "data": {
      "application/vnd.microsoft.datawrangler.viewer.v0+json": {
       "columns": [
        {
         "name": "index",
         "rawType": "int64",
         "type": "integer"
        },
        {
         "name": "A",
         "rawType": "float64",
         "type": "float"
        },
        {
         "name": "B",
         "rawType": "int32",
         "type": "integer"
        },
        {
         "name": "C",
         "rawType": "float64",
         "type": "float"
        }
       ],
       "ref": "e96b61e8-1ffe-41bb-8282-23ffd59a8fe5",
       "rows": [
        [
         "0",
         "5.0",
         "81",
         "99.0"
        ],
        [
         "1",
         "36.75",
         "59",
         "60.0"
        ],
        [
         "2",
         "80.0",
         "31",
         "1.0"
        ],
        [
         "3",
         "55.0",
         "18",
         null
        ],
        [
         "4",
         "7.0",
         "78",
         "87.0"
        ]
       ],
       "shape": {
        "columns": 3,
        "rows": 5
       }
      },
      "text/html": [
       "<div>\n",
       "<style scoped>\n",
       "    .dataframe tbody tr th:only-of-type {\n",
       "        vertical-align: middle;\n",
       "    }\n",
       "\n",
       "    .dataframe tbody tr th {\n",
       "        vertical-align: top;\n",
       "    }\n",
       "\n",
       "    .dataframe thead th {\n",
       "        text-align: right;\n",
       "    }\n",
       "</style>\n",
       "<table border=\"1\" class=\"dataframe\">\n",
       "  <thead>\n",
       "    <tr style=\"text-align: right;\">\n",
       "      <th></th>\n",
       "      <th>A</th>\n",
       "      <th>B</th>\n",
       "      <th>C</th>\n",
       "    </tr>\n",
       "  </thead>\n",
       "  <tbody>\n",
       "    <tr>\n",
       "      <th>0</th>\n",
       "      <td>5.00</td>\n",
       "      <td>81</td>\n",
       "      <td>99.0</td>\n",
       "    </tr>\n",
       "    <tr>\n",
       "      <th>1</th>\n",
       "      <td>36.75</td>\n",
       "      <td>59</td>\n",
       "      <td>60.0</td>\n",
       "    </tr>\n",
       "    <tr>\n",
       "      <th>2</th>\n",
       "      <td>80.00</td>\n",
       "      <td>31</td>\n",
       "      <td>1.0</td>\n",
       "    </tr>\n",
       "    <tr>\n",
       "      <th>3</th>\n",
       "      <td>55.00</td>\n",
       "      <td>18</td>\n",
       "      <td>NaN</td>\n",
       "    </tr>\n",
       "    <tr>\n",
       "      <th>4</th>\n",
       "      <td>7.00</td>\n",
       "      <td>78</td>\n",
       "      <td>87.0</td>\n",
       "    </tr>\n",
       "  </tbody>\n",
       "</table>\n",
       "</div>"
      ],
      "text/plain": [
       "       A   B     C\n",
       "0   5.00  81  99.0\n",
       "1  36.75  59  60.0\n",
       "2  80.00  31   1.0\n",
       "3  55.00  18   NaN\n",
       "4   7.00  78  87.0"
      ]
     },
     "execution_count": 7,
     "metadata": {},
     "output_type": "execute_result"
    }
   ],
   "source": [
    "df['A']=df['A'].fillna(df['A'].mean())\n",
    "df"
   ]
  },
  {
   "cell_type": "code",
   "execution_count": 8,
   "id": "85c13577",
   "metadata": {},
   "outputs": [
    {
     "data": {
      "application/vnd.microsoft.datawrangler.viewer.v0+json": {
       "columns": [
        {
         "name": "index",
         "rawType": "int64",
         "type": "integer"
        },
        {
         "name": "A",
         "rawType": "float64",
         "type": "float"
        },
        {
         "name": "B",
         "rawType": "int32",
         "type": "integer"
        },
        {
         "name": "C",
         "rawType": "float64",
         "type": "float"
        }
       ],
       "ref": "c065390c-d245-429c-9064-b8d83dcbb815",
       "rows": [
        [
         "0",
         "5.0",
         "81",
         "99.0"
        ],
        [
         "1",
         "36.75",
         "59",
         "60.0"
        ],
        [
         "2",
         "80.0",
         "31",
         "1.0"
        ],
        [
         "3",
         "55.0",
         "18",
         "61.75"
        ],
        [
         "4",
         "7.0",
         "78",
         "87.0"
        ]
       ],
       "shape": {
        "columns": 3,
        "rows": 5
       }
      },
      "text/html": [
       "<div>\n",
       "<style scoped>\n",
       "    .dataframe tbody tr th:only-of-type {\n",
       "        vertical-align: middle;\n",
       "    }\n",
       "\n",
       "    .dataframe tbody tr th {\n",
       "        vertical-align: top;\n",
       "    }\n",
       "\n",
       "    .dataframe thead th {\n",
       "        text-align: right;\n",
       "    }\n",
       "</style>\n",
       "<table border=\"1\" class=\"dataframe\">\n",
       "  <thead>\n",
       "    <tr style=\"text-align: right;\">\n",
       "      <th></th>\n",
       "      <th>A</th>\n",
       "      <th>B</th>\n",
       "      <th>C</th>\n",
       "    </tr>\n",
       "  </thead>\n",
       "  <tbody>\n",
       "    <tr>\n",
       "      <th>0</th>\n",
       "      <td>5.00</td>\n",
       "      <td>81</td>\n",
       "      <td>99.00</td>\n",
       "    </tr>\n",
       "    <tr>\n",
       "      <th>1</th>\n",
       "      <td>36.75</td>\n",
       "      <td>59</td>\n",
       "      <td>60.00</td>\n",
       "    </tr>\n",
       "    <tr>\n",
       "      <th>2</th>\n",
       "      <td>80.00</td>\n",
       "      <td>31</td>\n",
       "      <td>1.00</td>\n",
       "    </tr>\n",
       "    <tr>\n",
       "      <th>3</th>\n",
       "      <td>55.00</td>\n",
       "      <td>18</td>\n",
       "      <td>61.75</td>\n",
       "    </tr>\n",
       "    <tr>\n",
       "      <th>4</th>\n",
       "      <td>7.00</td>\n",
       "      <td>78</td>\n",
       "      <td>87.00</td>\n",
       "    </tr>\n",
       "  </tbody>\n",
       "</table>\n",
       "</div>"
      ],
      "text/plain": [
       "       A   B      C\n",
       "0   5.00  81  99.00\n",
       "1  36.75  59  60.00\n",
       "2  80.00  31   1.00\n",
       "3  55.00  18  61.75\n",
       "4   7.00  78  87.00"
      ]
     },
     "execution_count": 8,
     "metadata": {},
     "output_type": "execute_result"
    }
   ],
   "source": [
    "df['C']=df['C'].fillna(df['C'].mean())\n",
    "df"
   ]
  },
  {
   "cell_type": "markdown",
   "id": "f10a6727",
   "metadata": {},
   "source": [
    "2. Create a Pandas DataFrame with 4 columns and 6 rows filled with random integers. Introduce some NaN values. Drop the rows with any NaN values."
   ]
  },
  {
   "cell_type": "code",
   "execution_count": 12,
   "id": "afcffe49",
   "metadata": {},
   "outputs": [
    {
     "name": "stdout",
     "output_type": "stream",
     "text": [
      "Original DataFrame:\n",
      "    A   B   C   D\n",
      "0  31  34   4  34\n",
      "1  43  93  57  39\n",
      "2   9   3  38  99\n",
      "3  51  19  61  70\n",
      "4  68  54  99  90\n",
      "5  11  62  36  38\n",
      "DataFrame with NaN values:\n",
      "      A     B     C   D\n",
      "0  31.0  34.0   4.0  34\n",
      "1  43.0  93.0   NaN  39\n",
      "2   9.0   3.0  38.0  99\n",
      "3   NaN  19.0  61.0  70\n",
      "4  68.0  54.0  99.0  90\n",
      "5  11.0   NaN  36.0  38\n",
      "DataFrame with NaN values dropped:\n",
      "      A     B     C   D\n",
      "0  31.0  34.0   4.0  34\n",
      "2   9.0   3.0  38.0  99\n",
      "4  68.0  54.0  99.0  90\n"
     ]
    }
   ],
   "source": [
    "# Create a Pandas DataFrame with 4 columns and 6 rows filled with random integers\n",
    "df = pd.DataFrame(np.random.randint(1, 100, size=(6, 4)), columns=['A', 'B', 'C', 'D'])\n",
    "print(\"Original DataFrame:\")\n",
    "print(df)\n",
    "\n",
    "# Introduce some NaN values\n",
    "df.iloc[1, 2] = np.nan\n",
    "df.iloc[3, 0] = np.nan\n",
    "df.iloc[5, 1] = np.nan\n",
    "print(\"DataFrame with NaN values:\")\n",
    "print(df)\n",
    "\n",
    "# Drop the rows with any NaN values\n",
    "df.dropna(inplace=True)\n",
    "print(\"DataFrame with NaN values dropped:\")\n",
    "print(df)"
   ]
  },
  {
   "cell_type": "markdown",
   "id": "6bbe41b2",
   "metadata": {},
   "source": [
    "### Assignment 4: Data Aggregation\n",
    "\n",
    "1. Create a Pandas DataFrame with 2 columns: 'Category' and 'Value'. Fill the 'Category' column with random categories ('A', 'B', 'C') and the 'Value' column with random integers. Group the DataFrame by 'Category' and compute the sum and mean of 'Value' for each category."
   ]
  },
  {
   "cell_type": "code",
   "execution_count": 21,
   "id": "12a508d3",
   "metadata": {},
   "outputs": [
    {
     "name": "stdout",
     "output_type": "stream",
     "text": [
      "Original DataFrame:\n",
      "  Category  Value\n",
      "0        C      7\n",
      "1        B     71\n",
      "2        C     66\n",
      "3        B     72\n",
      "4        B     14\n",
      "5        C     92\n",
      "6        B     28\n",
      "7        B     81\n",
      "8        A     81\n",
      "9        A     64\n",
      "Grouped DataFrame:\n",
      "          sum  mean\n",
      "Category           \n",
      "A         145  72.5\n",
      "B         266  53.2\n",
      "C         165  55.0\n"
     ]
    }
   ],
   "source": [
    "df = pd.DataFrame({'Category': np.random.choice(['A', 'B', 'C'], size=10), 'Value': np.random.randint(1, 100, size=10)})\n",
    "print(\"Original DataFrame:\")\n",
    "print(df)\n",
    "\n",
    "grouped=df.groupby('Category')['Value'].agg(['sum','mean'])\n",
    "print(\"Grouped DataFrame:\")\n",
    "print(grouped.round(2))"
   ]
  },
  {
   "cell_type": "markdown",
   "id": "fefe2ade",
   "metadata": {},
   "source": [
    "2. Create a Pandas DataFrame with 3 columns: 'Product', 'Category', and 'Sales'. Fill the DataFrame with random data. Group the DataFrame by 'Category' and compute the total sales for each category."
   ]
  },
  {
   "cell_type": "code",
   "execution_count": 38,
   "id": "8e3d3405",
   "metadata": {},
   "outputs": [
    {
     "name": "stdout",
     "output_type": "stream",
     "text": [
      "Original DataFrame:\n",
      "  Product Category  Sales\n",
      "0   Prod3        A     15\n",
      "1   Prod2        A     29\n",
      "2   Prod1        B      3\n",
      "3   Prod3        A     34\n",
      "4   Prod1        A     69\n",
      "5   Prod1        B     46\n",
      "6   Prod3        B      6\n",
      "7   Prod1        C     17\n",
      "8   Prod2        C      2\n",
      "9   Prod3        C     36\n",
      "grouped dataframe : \n",
      "Category\n",
      "A    147\n",
      "B     55\n",
      "C     55\n",
      "Name: Sales, dtype: int32\n"
     ]
    }
   ],
   "source": [
    "df = pd.DataFrame({'Product': np.random.choice(['Prod1', 'Prod2', 'Prod3'], size=10), 'Category': np.random.choice(['A', 'B', 'C'], size=10), 'Sales': np.random.randint(1, 100, size=10)})\n",
    "print(\"Original DataFrame:\")\n",
    "print(df)\n",
    "\n",
    "grouped_pd=df.groupby('Category')['Sales'].sum()\n",
    "print('grouped dataframe : ')\n",
    "print(grouped_pd)"
   ]
  },
  {
   "cell_type": "markdown",
   "id": "dffd7915",
   "metadata": {},
   "source": [
    "### Assignment 5: Merging DataFrames\n",
    "\n",
    "1. Create two Pandas DataFrames with a common column. Merge the DataFrames using the common column."
   ]
  },
  {
   "cell_type": "code",
   "execution_count": 40,
   "id": "05b65598",
   "metadata": {},
   "outputs": [
    {
     "name": "stdout",
     "output_type": "stream",
     "text": [
      "DataFrame 1:\n",
      "  Key  Value1\n",
      "0   A      87\n",
      "1   B      87\n",
      "2   C      46\n",
      "3   D      69\n",
      "DataFrame 2:\n",
      "  Key  Value2\n",
      "0   A      70\n",
      "1   B       8\n",
      "2   C      25\n",
      "3   E      79\n",
      "Merged DataFrame:\n",
      "  Key  Value1  Value2\n",
      "0   A      87      70\n",
      "1   B      87       8\n",
      "2   C      46      25\n"
     ]
    }
   ],
   "source": [
    "df1 = pd.DataFrame({'Key': ['A', 'B', 'C', 'D'], 'Value1': np.random.randint(1, 100, size=4)})\n",
    "df2 = pd.DataFrame({'Key': ['A', 'B', 'C', 'E'], 'Value2': np.random.randint(1, 100, size=4)})\n",
    "print(\"DataFrame 1:\")\n",
    "print(df1)\n",
    "print(\"DataFrame 2:\")\n",
    "print(df2)\n",
    "\n",
    "merged_df=pd.merge(df1,df2)\n",
    "print(\"Merged DataFrame:\")\n",
    "print(merged_df)\n"
   ]
  },
  {
   "cell_type": "markdown",
   "id": "3e34d0c0",
   "metadata": {},
   "source": [
    "2. Create two Pandas DataFrames with different columns. Concatenate the DataFrames along the rows and along the columns."
   ]
  },
  {
   "cell_type": "code",
   "execution_count": 47,
   "id": "fb65f23b",
   "metadata": {},
   "outputs": [
    {
     "name": "stdout",
     "output_type": "stream",
     "text": [
      "DataFrame 1:\n",
      "    A   B\n",
      "0  66  60\n",
      "1  31  47\n",
      "2   7  54\n",
      "DataFrame 2:\n",
      "    C   D\n",
      "0  54  67\n",
      "1  62  53\n",
      "2  64  93\n",
      "Concatenated DataFrame (rows):\n",
      "      A     B     C     D\n",
      "0  66.0  60.0   NaN   NaN\n",
      "1  31.0  47.0   NaN   NaN\n",
      "2   7.0  54.0   NaN   NaN\n",
      "0   NaN   NaN  54.0  67.0\n",
      "1   NaN   NaN  62.0  53.0\n",
      "2   NaN   NaN  64.0  93.0\n",
      "Concatenated DataFrame (columns):\n",
      "    A   B   C   D\n",
      "0  66  60  54  67\n",
      "1  31  47  62  53\n",
      "2   7  54  64  93\n",
      "DataFrame with NaN values filled:\n",
      "       A      B     C     D\n",
      "0  66.00  60.00  60.0  71.0\n",
      "1  31.00  47.00  60.0  71.0\n",
      "2   7.00  54.00  60.0  71.0\n",
      "0  34.67  53.67  54.0  67.0\n",
      "1  34.67  53.67  62.0  53.0\n",
      "2  34.67  53.67  64.0  93.0\n"
     ]
    }
   ],
   "source": [
    "df1 = pd.DataFrame({'A': np.random.randint(1, 100, size=3), 'B': np.random.randint(1, 100, size=3)})\n",
    "df2 = pd.DataFrame({'C': np.random.randint(1, 100, size=3), 'D': np.random.randint(1, 100, size=3)})\n",
    "print(\"DataFrame 1:\")\n",
    "print(df1)\n",
    "print(\"DataFrame 2:\")\n",
    "print(df2)\n",
    "\n",
    "concat_rows=pd.concat([df1,df2],axis=0)\n",
    "print(\"Concatenated DataFrame (rows):\")\n",
    "print(concat_rows)\n",
    "\n",
    "\n",
    "concat_columns = pd.concat([df1, df2], axis=1)\n",
    "print(\"Concatenated DataFrame (columns):\")\n",
    "print(concat_columns)\n",
    "\n",
    "\n",
    "concat_rows.isnull().sum()\n",
    "\n",
    "mean=concat_rows.mean()\n",
    "concat_rows.fillna(mean,inplace=True)\n",
    "print(\"DataFrame with NaN values filled:\")\n",
    "print(concat_rows.round(2))"
   ]
  },
  {
   "cell_type": "markdown",
   "id": "4ab67a5e",
   "metadata": {},
   "source": [
    "### Assignment 6: Time Series Analysis\n",
    "\n",
    "1. Create a Pandas DataFrame with a datetime index and one column filled with random integers. Resample the DataFrame to compute the monthly mean of the values."
   ]
  },
  {
   "cell_type": "code",
   "execution_count": 49,
   "id": "e8e72f8e",
   "metadata": {},
   "outputs": [
    {
     "name": "stdout",
     "output_type": "stream",
     "text": [
      "Original DataFrame:\n",
      "            data\n",
      "date            \n",
      "2022-01-01    21\n",
      "2022-01-02    69\n",
      "2022-01-03    51\n",
      "2022-01-04    46\n",
      "2022-01-05    17\n",
      "...          ...\n",
      "2022-12-27    64\n",
      "2022-12-28    20\n",
      "2022-12-29    52\n",
      "2022-12-30    37\n",
      "2022-12-31    31\n",
      "\n",
      "[365 rows x 1 columns]\n",
      "Monthly mean DataFrame:\n",
      "                 data\n",
      "date                 \n",
      "2022-01-31  46.806452\n",
      "2022-02-28  54.642857\n",
      "2022-03-31  52.580645\n",
      "2022-04-30  49.733333\n",
      "2022-05-31  48.419355\n",
      "2022-06-30  47.000000\n",
      "2022-07-31  41.064516\n",
      "2022-08-31  49.516129\n",
      "2022-09-30  46.233333\n",
      "2022-10-31  51.806452\n",
      "2022-11-30  43.133333\n",
      "2022-12-31  40.838710\n"
     ]
    },
    {
     "name": "stderr",
     "output_type": "stream",
     "text": [
      "C:\\Users\\Tanvir\\AppData\\Local\\Temp\\ipykernel_20488\\1109848877.py:8: FutureWarning: 'M' is deprecated and will be removed in a future version, please use 'ME' instead.\n",
      "  monthly_mean=df.resample('M').mean()\n"
     ]
    }
   ],
   "source": [
    "date_rng = pd.date_range(start='2022-01-01', end='2022-12-31', freq='D')\n",
    "df = pd.DataFrame(date_rng, columns=['date'])\n",
    "df['data'] = np.random.randint(0, 100, size=(len(date_rng)))\n",
    "df.set_index('date', inplace=True)\n",
    "print(\"Original DataFrame:\")\n",
    "print(df)\n",
    "\n",
    "monthly_mean=df.resample('M').mean()\n",
    "print(\"Monthly mean DataFrame:\")\n",
    "print(monthly_mean)"
   ]
  },
  {
   "cell_type": "markdown",
   "id": "6293dbd1",
   "metadata": {},
   "source": [
    "2. Create a Pandas DataFrame with a datetime index ranging from '2021-01-01' to '2021-12-31' and one column filled with random integers. Compute the rolling mean with a window of 7 days."
   ]
  },
  {
   "cell_type": "code",
   "execution_count": 51,
   "id": "e6e9893e",
   "metadata": {},
   "outputs": [
    {
     "name": "stdout",
     "output_type": "stream",
     "text": [
      "Original DataFrame:\n",
      "            data\n",
      "date            \n",
      "2021-01-01    10\n",
      "2021-01-02    76\n",
      "2021-01-03    11\n",
      "2021-01-04    14\n",
      "2021-01-05    21\n",
      "...          ...\n",
      "2021-12-27    93\n",
      "2021-12-28    67\n",
      "2021-12-29    35\n",
      "2021-12-30    99\n",
      "2021-12-31    25\n",
      "\n",
      "[365 rows x 1 columns]\n",
      "Rolling mean DataFrame:\n",
      "                 data\n",
      "date                 \n",
      "2021-01-01        NaN\n",
      "2021-01-02        NaN\n",
      "2021-01-03        NaN\n",
      "2021-01-04        NaN\n",
      "2021-01-05        NaN\n",
      "...               ...\n",
      "2021-12-27  45.428571\n",
      "2021-12-28  42.428571\n",
      "2021-12-29  46.428571\n",
      "2021-12-30  54.285714\n",
      "2021-12-31  56.142857\n",
      "\n",
      "[365 rows x 1 columns]\n"
     ]
    }
   ],
   "source": [
    "date_rng = pd.date_range(start='2021-01-01', end='2021-12-31', freq='D')\n",
    "df = pd.DataFrame(date_rng, columns=['date'])\n",
    "df['data'] = np.random.randint(0, 100, size=(len(date_rng)))\n",
    "df.set_index('date', inplace=True)\n",
    "print(\"Original DataFrame:\")\n",
    "print(df)\n",
    "\n",
    "rolling_mean = df.rolling(window=7).mean()\n",
    "print(\"Rolling mean DataFrame:\")\n",
    "print(rolling_mean)"
   ]
  },
  {
   "cell_type": "markdown",
   "id": "d264bf1d",
   "metadata": {},
   "source": [
    "### Assignment 7: MultiIndex DataFrame\n",
    "\n",
    "1. Create a Pandas DataFrame with a MultiIndex (hierarchical index). Perform some basic indexing and slicing operations on the MultiIndex DataFrame."
   ]
  },
  {
   "cell_type": "code",
   "execution_count": 59,
   "id": "7d31ac12",
   "metadata": {},
   "outputs": [
    {
     "name": "stdout",
     "output_type": "stream",
     "text": [
      "MultiIndex DataFrame:\n",
      "                      Value1  Value2  Value3\n",
      "Category SubCategory                        \n",
      "A        one              86      82      68\n",
      "         two              66      22       4\n",
      "B        one              89      88      88\n",
      "         two              26      46      77\n",
      "Indexing at Category 'A':\n",
      "             Value1  Value2  Value3\n",
      "SubCategory                        \n",
      "one              86      82      68\n",
      "two              66      22       4\n",
      "Slicing at Category 'B' and SubCategory 'two':\n",
      "Value1    26\n",
      "Value2    46\n",
      "Value3    77\n",
      "Name: (B, two), dtype: int32\n"
     ]
    }
   ],
   "source": [
    "arrays = [['A', 'A', 'B', 'B'], ['one', 'two', 'one', 'two']]\n",
    "index = pd.MultiIndex.from_arrays(arrays, names=('Category', 'SubCategory'))\n",
    "df = pd.DataFrame(np.random.randint(1, 100, size=(4, 3)), index=index, columns=['Value1', 'Value2', 'Value3'])\n",
    "print(\"MultiIndex DataFrame:\")\n",
    "print(df)\n",
    "\n",
    "print(\"Indexing at Category 'A':\")\n",
    "print(df.loc['A'])\n",
    "\n",
    "print(\"Slicing at Category 'B' and SubCategory 'two':\")\n",
    "print(df.loc[('B', 'two')])"
   ]
  },
  {
   "cell_type": "markdown",
   "id": "f1ae255c",
   "metadata": {},
   "source": [
    "2. Create a Pandas DataFrame with MultiIndex consisting of 'Category' and 'SubCategory'. Fill the DataFrame with random data and compute the sum of values for each 'Category' and 'SubCategory'."
   ]
  },
  {
   "cell_type": "code",
   "execution_count": 61,
   "id": "fe564439",
   "metadata": {},
   "outputs": [
    {
     "name": "stdout",
     "output_type": "stream",
     "text": [
      "MultiIndex DataFrame:\n",
      "                      Value1  Value2  Value3\n",
      "Category SubCategory                        \n",
      "A        one              34      50      94\n",
      "         two              72      44      58\n",
      "B        one               5      93      16\n",
      "         two              35      53      86\n",
      "C        one              55      84      41\n",
      "         two               6      59      80\n",
      "Sum of the groups:                        Value1  Value2  Value3\n",
      "Category SubCategory                        \n",
      "A        one              34      50      94\n",
      "         two              72      44      58\n",
      "B        one               5      93      16\n",
      "         two              35      53      86\n",
      "C        one              55      84      41\n",
      "         two               6      59      80\n"
     ]
    }
   ],
   "source": [
    "arrays = [['A', 'A', 'B', 'B', 'C', 'C'], ['one', 'two', 'one', 'two', 'one', 'two']]\n",
    "index = pd.MultiIndex.from_arrays(arrays, names=('Category', 'SubCategory'))\n",
    "df = pd.DataFrame(np.random.randint(1, 100, size=(6, 3)), index=index, columns=['Value1', 'Value2', 'Value3'])\n",
    "print(\"MultiIndex DataFrame:\")\n",
    "print(df)\n",
    "\n",
    "sum_values=df.groupby(['Category','SubCategory']).sum()\n",
    "print('Sum of the groups: ',sum_values)"
   ]
  },
  {
   "cell_type": "markdown",
   "id": "da494917",
   "metadata": {},
   "source": [
    "### Assignment 8: Pivot Tables\n",
    "\n",
    "1. Create a Pandas DataFrame with columns 'Date', 'Category', and 'Value'. Create a pivot table to compute the sum of 'Value' for each 'Category' by 'Date'."
   ]
  },
  {
   "cell_type": "code",
   "execution_count": 62,
   "id": "bff9924f",
   "metadata": {},
   "outputs": [
    {
     "name": "stdout",
     "output_type": "stream",
     "text": [
      "Original DataFrame:\n",
      "         Date Category  Value\n",
      "0  2022-01-03        B     17\n",
      "1  2022-01-04        C     86\n",
      "2  2022-01-01        A     98\n",
      "3  2022-01-05        A     90\n",
      "4  2022-01-03        C     92\n",
      "5  2022-01-05        A     51\n",
      "6  2022-01-04        B     87\n",
      "7  2022-01-01        C     79\n",
      "8  2022-01-05        A      7\n",
      "9  2022-01-01        A     81\n",
      "10 2022-01-03        A     27\n",
      "11 2022-01-10        A     90\n",
      "12 2022-01-04        B     64\n",
      "13 2022-01-01        A     50\n",
      "14 2022-01-07        C      1\n",
      "15 2022-01-02        B     46\n",
      "16 2022-01-08        C     13\n",
      "17 2022-01-07        C     81\n",
      "18 2022-01-06        A     34\n",
      "19 2022-01-07        C     47\n",
      "Pivot Table:\n",
      "Category        A      B      C\n",
      "Date                           \n",
      "2022-01-01  229.0    NaN   79.0\n",
      "2022-01-02    NaN   46.0    NaN\n",
      "2022-01-03   27.0   17.0   92.0\n",
      "2022-01-04    NaN  151.0   86.0\n",
      "2022-01-05  148.0    NaN    NaN\n",
      "2022-01-06   34.0    NaN    NaN\n",
      "2022-01-07    NaN    NaN  129.0\n",
      "2022-01-08    NaN    NaN   13.0\n",
      "2022-01-10   90.0    NaN    NaN\n"
     ]
    }
   ],
   "source": [
    "# Create a Pandas DataFrame with columns 'Date', 'Category', and 'Value'\n",
    "date_rng = pd.date_range(start='2022-01-01', end='2022-01-10', freq='D')\n",
    "df = pd.DataFrame({'Date': np.random.choice(date_rng, size=20), 'Category': np.random.choice(['A', 'B', 'C'], size=20), 'Value': np.random.randint(1, 100, size=20)})\n",
    "print(\"Original DataFrame:\")\n",
    "print(df)\n",
    "\n",
    "# Create a pivot table to compute the sum of 'Value' for each 'Category' by 'Date'\n",
    "pivot_table = df.pivot_table(values='Value', index='Date', columns='Category', aggfunc='sum')\n",
    "print(\"Pivot Table:\")\n",
    "print(pivot_table)"
   ]
  },
  {
   "cell_type": "markdown",
   "id": "e9b40785",
   "metadata": {},
   "source": [
    "2. Create a Pandas DataFrame with columns 'Year', 'Quarter', and 'Revenue'. Create a pivot table to compute the mean 'Revenue' for each 'Quarter' by 'Year'."
   ]
  },
  {
   "cell_type": "code",
   "execution_count": 66,
   "id": "f5ec7938",
   "metadata": {},
   "outputs": [
    {
     "name": "stdout",
     "output_type": "stream",
     "text": [
      "Original DataFrame:\n",
      "    Year Quarter  Revenue\n",
      "0   2020      Q2      115\n",
      "1   2020      Q4      408\n",
      "2   2022      Q1       42\n",
      "3   2020      Q2      354\n",
      "4   2022      Q2      248\n",
      "5   2022      Q1      356\n",
      "6   2022      Q3      891\n",
      "7   2021      Q1      414\n",
      "8   2022      Q4       98\n",
      "9   2021      Q3      388\n",
      "10  2021      Q1      542\n",
      "11  2021      Q1      346\n",
      "Pivot Table:\n",
      "Quarter     Q1     Q2     Q3     Q4\n",
      "Year                               \n",
      "2020       NaN  234.5    NaN  408.0\n",
      "2021     434.0    NaN  388.0    NaN\n",
      "2022     199.0  248.0  891.0   98.0\n",
      "Fill Pivot Table using its mean..\n",
      "Quarter     Q1      Q2     Q3     Q4\n",
      "Year                                \n",
      "2020     316.5  234.50  639.5  408.0\n",
      "2021     434.0  241.25  388.0  253.0\n",
      "2022     199.0  248.00  891.0   98.0\n"
     ]
    }
   ],
   "source": [
    "df = pd.DataFrame({'Year': np.random.choice([2020, 2021, 2022], size=12), 'Quarter': np.random.choice(['Q1', 'Q2', 'Q3', 'Q4'], size=12), 'Revenue': np.random.randint(1, 1000, size=12)})\n",
    "print(\"Original DataFrame:\")\n",
    "print(df)\n",
    "\n",
    "pivot_table=df.pivot_table(values='Revenue', index='Year', columns='Quarter', aggfunc='mean')\n",
    "print(\"Pivot Table:\")\n",
    "print(pivot_table)\n",
    "mean=pivot_table.mean()\n",
    "pivot_table.fillna(mean,inplace=True)\n",
    "print('Fill Pivot Table using its mean..')\n",
    "print(pivot_table)"
   ]
  },
  {
   "cell_type": "markdown",
   "id": "d4ca384d",
   "metadata": {},
   "source": [
    "### Assignment 9: Applying Functions\n",
    "\n",
    "1. Create a Pandas DataFrame with 3 columns and 5 rows filled with random integers. Apply a function that doubles the values of the DataFrame."
   ]
  },
  {
   "cell_type": "code",
   "execution_count": 68,
   "id": "6722e24f",
   "metadata": {},
   "outputs": [
    {
     "name": "stdout",
     "output_type": "stream",
     "text": [
      "    A   B   C\n",
      "0  19  84  69\n",
      "1  75  19  82\n",
      "2  98  79  19\n",
      "3  84  82  20\n",
      "4  36  20  69\n",
      "     A    B    C\n",
      "0   38  168  138\n",
      "1  150   38  164\n",
      "2  196  158   38\n",
      "3  168  164   40\n",
      "4   72   40  138\n"
     ]
    },
    {
     "name": "stderr",
     "output_type": "stream",
     "text": [
      "C:\\Users\\Tanvir\\AppData\\Local\\Temp\\ipykernel_20488\\1767315580.py:4: FutureWarning: DataFrame.applymap has been deprecated. Use DataFrame.map instead.\n",
      "  df_doubled=df.applymap(lambda x:x*2)\n"
     ]
    }
   ],
   "source": [
    "df=pd.DataFrame(np.random.randint(1,100,size=(5,3)),columns=['A', 'B', 'C'])\n",
    "print(df)\n",
    "\n",
    "df_doubled=df.applymap(lambda x:x*2)\n",
    "print(df_doubled)"
   ]
  },
  {
   "cell_type": "code",
   "execution_count": 71,
   "id": "90c7981c",
   "metadata": {},
   "outputs": [
    {
     "name": "stdout",
     "output_type": "stream",
     "text": [
      "    A   B   C\n",
      "0  36  43  69\n",
      "1   5  17  37\n",
      "2  31  40  94\n",
      "3  40  26  29\n",
      "4  91  95   3\n",
      "5  78  79  55\n",
      "DataFrame with Sum column:\n",
      "    A   B   C  Sum\n",
      "0  36  43  69  148\n",
      "1   5  17  37   59\n",
      "2  31  40  94  165\n",
      "3  40  26  29   95\n",
      "4  91  95   3  189\n",
      "5  78  79  55  212\n"
     ]
    }
   ],
   "source": [
    "df=pd.DataFrame(np.random.randint(1,100,size=(6,3)),columns=['A', 'B', 'C'])\n",
    "print(df)\n",
    "\n",
    "df['Sum']=df.apply(lambda row:row.sum(),axis=1)\n",
    "print(\"DataFrame with Sum column:\")\n",
    "print(df)"
   ]
  },
  {
   "cell_type": "markdown",
   "id": "4e70c2d5",
   "metadata": {},
   "source": [
    "### Assignment 10: Working with Text Data\n",
    "\n",
    "1. Create a Pandas Series with 5 random text strings. Convert all the strings to uppercase."
   ]
  },
  {
   "cell_type": "code",
   "execution_count": 73,
   "id": "54a41ff3",
   "metadata": {},
   "outputs": [
    {
     "name": "stdout",
     "output_type": "stream",
     "text": [
      "Original Series:\n",
      "0         apple\n",
      "1        banana\n",
      "2        cherry\n",
      "3          date\n",
      "4    elderberry\n",
      "dtype: object\n",
      "0         APPLE\n",
      "1        BANANA\n",
      "2        CHERRY\n",
      "3          DATE\n",
      "4    ELDERBERRY\n",
      "dtype: object\n"
     ]
    }
   ],
   "source": [
    "text_data = pd.Series(['apple', 'banana', 'cherry', 'date', 'elderberry'])\n",
    "print(\"Original Series:\")\n",
    "print(text_data)\n",
    "\n",
    "up_data=text_data.str.upper()\n",
    "print(up_data)"
   ]
  },
  {
   "cell_type": "markdown",
   "id": "dc81b5a6",
   "metadata": {},
   "source": [
    "2. Create a Pandas Series with 5 random text strings. Extract the first three characters of each string."
   ]
  },
  {
   "cell_type": "code",
   "execution_count": 78,
   "id": "9363a8cb",
   "metadata": {},
   "outputs": [
    {
     "name": "stdout",
     "output_type": "stream",
     "text": [
      "Original Series:\n",
      "0         apple\n",
      "1        banana\n",
      "2        cherry\n",
      "3          date\n",
      "4    elderberry\n",
      "dtype: object\n",
      "0    app\n",
      "1    ban\n",
      "2    che\n",
      "3    dat\n",
      "4    eld\n",
      "dtype: object\n",
      "0    ple\n",
      "1    ana\n",
      "2    rry\n",
      "3    ate\n",
      "4    rry\n",
      "dtype: object\n",
      "0    e\n",
      "1    a\n",
      "2    y\n",
      "3    e\n",
      "4    y\n",
      "dtype: object\n"
     ]
    }
   ],
   "source": [
    "text_data = pd.Series(['apple', 'banana', 'cherry', 'date', 'elderberry'])\n",
    "print(\"Original Series:\")\n",
    "print(text_data)\n",
    "\n",
    "f3_char=text_data.str[:3]\n",
    "print(f3_char)\n",
    "\n",
    "l3_char=text_data.str[-3:]\n",
    "print(l3_char)\n",
    "\n",
    "last_char=text_data.str[-1:]\n",
    "print(last_char)\n"
   ]
  }
 ],
 "metadata": {
  "kernelspec": {
   "display_name": "venv",
   "language": "python",
   "name": "python3"
  },
  "language_info": {
   "codemirror_mode": {
    "name": "ipython",
    "version": 3
   },
   "file_extension": ".py",
   "mimetype": "text/x-python",
   "name": "python",
   "nbconvert_exporter": "python",
   "pygments_lexer": "ipython3",
   "version": "3.13.0"
  }
 },
 "nbformat": 4,
 "nbformat_minor": 5
}
