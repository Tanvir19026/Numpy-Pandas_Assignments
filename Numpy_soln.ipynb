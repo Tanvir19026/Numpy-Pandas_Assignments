{
 "cells": [
  {
   "cell_type": "markdown",
   "id": "9d922d54",
   "metadata": {},
   "source": [
    "# Module: NumPy Assignments\n",
    "## Lesson: NumPy\n"
   ]
  },
  {
   "cell_type": "code",
   "execution_count": 1,
   "id": "079108e8",
   "metadata": {},
   "outputs": [
    {
     "name": "stdout",
     "output_type": "stream",
     "text": [
      "hello World\n"
     ]
    }
   ],
   "source": [
    "print('hello World')"
   ]
  },
  {
   "cell_type": "markdown",
   "id": "f93420d4",
   "metadata": {},
   "source": [
    " ### Assignment 1: Array Creation and Manipulation\n",
    " 1.Create a NumPy array of shape (5, 5) filled with random integers between 1 and 20. Replace all the elements in the third column with 1."
   ]
  },
  {
   "cell_type": "code",
   "execution_count": 2,
   "id": "d2f427fb",
   "metadata": {},
   "outputs": [],
   "source": [
    "import numpy as np"
   ]
  },
  {
   "cell_type": "code",
   "execution_count": 13,
   "id": "7d8b5498",
   "metadata": {},
   "outputs": [
    {
     "name": "stdout",
     "output_type": "stream",
     "text": [
      "[[ 1  2  3  4  5]\n",
      " [ 6  7  8  9 10]\n",
      " [11 12 13 14 15]]\n",
      "2\n",
      "third_col [[ 3]\n",
      " [ 8]\n",
      " [13]]\n",
      "new array [[ 1  2  1  4  5]\n",
      " [ 6  7  1  9 10]\n",
      " [11 12  1 14 15]]\n"
     ]
    }
   ],
   "source": [
    "arr=np.array([[1,2,3,4,5],[6,7,8,9,10],[11,12,13,14,15]])\n",
    "print(arr)\n",
    "print(np.ndim(arr))\n",
    "arr.shape\n",
    "third_col=arr[:,2:3]\n",
    "print('third_col',third_col)\n",
    "arr[:,2:3]=1\n",
    "print('new array',arr)"
   ]
  },
  {
   "cell_type": "markdown",
   "id": "8e88e72c",
   "metadata": {},
   "source": [
    "2. Create a NumPy array of shape (4, 4) with values from 1 to 16. Replace the diagonal elements with 0."
   ]
  },
  {
   "cell_type": "code",
   "execution_count": 17,
   "id": "1c317493",
   "metadata": {},
   "outputs": [
    {
     "name": "stdout",
     "output_type": "stream",
     "text": [
      "[[ 7 15 12  7 18]\n",
      " [ 7 13  3 11 15]\n",
      " [ 9  9  2  5 20]\n",
      " [ 7 18 16 15 10]\n",
      " [14  8  3  7  5]]\n",
      "\n",
      " [ 7 13  2 15  5]\n",
      "[[ 0 15 12  7 18]\n",
      " [ 7  0  3 11 15]\n",
      " [ 9  9  0  5 20]\n",
      " [ 7 18 16  0 10]\n",
      " [14  8  3  7  0]]\n"
     ]
    }
   ],
   "source": [
    "random_matrix=np.random.randint(1,21,size=(5,5))\n",
    "print(random_matrix)\n",
    "diag=random_matrix.diagonal()\n",
    "print('\\n',diag)\n",
    "np.fill_diagonal(random_matrix,0)\n",
    "print(random_matrix)"
   ]
  },
  {
   "cell_type": "markdown",
   "id": "8623d2a0",
   "metadata": {},
   "source": [
    "### Assignment 2: Array Indexing and Slicing\n",
    "\n",
    "1. Create a NumPy array of shape (6, 6) with values from 1 to 36. Extract the sub-array consisting of the 3rd to 5th rows and 2nd to 4th columns."
   ]
  },
  {
   "cell_type": "code",
   "execution_count": 19,
   "id": "995d6d9c",
   "metadata": {},
   "outputs": [
    {
     "name": "stdout",
     "output_type": "stream",
     "text": [
      "[[26 16 12 23  1  1]\n",
      " [15 14 31 21 15 13]\n",
      " [ 8 25  8 32  2  9]\n",
      " [24 35 12 17 27 35]\n",
      " [24 20 10 22 18  3]\n",
      " [25 11  4 12 23 28]]\n",
      "[[25  8 32]\n",
      " [35 12 17]\n",
      " [20 10 22]]\n"
     ]
    }
   ],
   "source": [
    "random_matrix=np.random.randint(1,37,size=(6,6))\n",
    "print(random_matrix)\n",
    "sub_array=random_matrix[2:5,1:4]\n",
    "print(sub_array)"
   ]
  },
  {
   "cell_type": "markdown",
   "id": "378b0eb8",
   "metadata": {},
   "source": [
    "2. Create a NumPy array of shape (5, 5) with random integers. Extract the elements on the border."
   ]
  },
  {
   "cell_type": "code",
   "execution_count": 20,
   "id": "94ade5b6",
   "metadata": {},
   "outputs": [
    {
     "name": "stdout",
     "output_type": "stream",
     "text": [
      "[[ 1 12  3  2  5]\n",
      " [13 14 11 15 15]\n",
      " [11 14 13 15 10]\n",
      " [12  7  2  8  6]\n",
      " [15  6 12  1  1]]\n",
      "[ 1 12  3  2  5 15 12 11 13  1  5 15 10  6  1  1  1 12  6 15]\n"
     ]
    }
   ],
   "source": [
    "matrix_for_border=np.random.randint(1,16,size=(5,5))\n",
    "print(matrix_for_border)\n",
    "\n",
    "\n",
    "top=matrix_for_border[0,:]\n",
    "bottom=matrix_for_border[-1,:]\n",
    "right=matrix_for_border[:,-1]\n",
    "left=matrix_for_border[:,0]\n",
    "\n",
    "border_element=np.concatenate([top,left[::-1],right,bottom[::-1]])\n",
    "\n",
    "print(border_element)"
   ]
  },
  {
   "cell_type": "markdown",
   "id": "8916dd3d",
   "metadata": {},
   "source": [
    "### Assignment 3: Array Operations\n",
    "\n",
    "1. Create two NumPy arrays of shape (3, 4) filled with random integers. Perform element-wise addition, subtraction, multiplication, and division."
   ]
  },
  {
   "cell_type": "code",
   "execution_count": 23,
   "id": "95795665",
   "metadata": {},
   "outputs": [
    {
     "name": "stdout",
     "output_type": "stream",
     "text": [
      "[[10  7  5 10]\n",
      " [ 9  8  8  2]\n",
      " [10  6  3  4]] \n",
      " [[13 19 19 11]\n",
      " [14 17 11 14]\n",
      " [13 17 19 18]]\n",
      "Addition: [[23 26 24 21]\n",
      " [23 25 19 16]\n",
      " [23 23 22 22]]\n",
      "Substruction: [[ -3 -12 -14  -1]\n",
      " [ -5  -9  -3 -12]\n",
      " [ -3 -11 -16 -14]]\n",
      "Multiplication: [[130 133  95 110]\n",
      " [126 136  88  28]\n",
      " [130 102  57  72]]\n",
      "Division: [[0.77 0.37 0.26 0.91]\n",
      " [0.64 0.47 0.73 0.14]\n",
      " [0.77 0.35 0.16 0.22]]\n"
     ]
    }
   ],
   "source": [
    "arr1=np.random.randint(1,11,size=(3,4))\n",
    "arr2=np.random.randint(11,21,size=(3,4))\n",
    "\n",
    "print(arr1,'\\n',arr2)\n",
    "\n",
    "print(\"Addition:\", arr1+arr2)\n",
    "print(\"Substruction:\", arr1-arr2)\n",
    "print(\"Multiplication:\", arr1 * arr2)\n",
    "div_res=arr1 / arr2\n",
    "print(\"Division:\",np.round(div_res,2))\n"
   ]
  },
  {
   "cell_type": "markdown",
   "id": "d7b394aa",
   "metadata": {},
   "source": [
    "2. Create a NumPy array of shape (4, 4) with values from 1 to 16. Compute the row-wise and column-wise sum."
   ]
  },
  {
   "cell_type": "code",
   "execution_count": 25,
   "id": "97f5f8b4",
   "metadata": {},
   "outputs": [
    {
     "name": "stdout",
     "output_type": "stream",
     "text": [
      "[[11  1 10 14]\n",
      " [ 4 13  3 11]\n",
      " [ 4 12  6  5]\n",
      " [10  7 15  5]]\n",
      "row wise addition [36 31 27 37]\n",
      "col wise addition [29 33 34 35]\n"
     ]
    }
   ],
   "source": [
    "arr=np.random.randint(1,16,size=(4,4))\n",
    "print(arr)\n",
    "\n",
    "print('row wise addition',np.sum(arr,axis=1))\n",
    "print('col wise addition',np.sum(arr,axis=0))"
   ]
  },
  {
   "cell_type": "markdown",
   "id": "8bce3562",
   "metadata": {},
   "source": [
    "### Assignment 4: Statistical Operations\n",
    "\n",
    "1. Create a NumPy array of shape (5, 5) filled with random integers. Compute the mean, median, standard deviation, and variance of the array.\n"
   ]
  },
  {
   "cell_type": "code",
   "execution_count": null,
   "id": "c8330af3",
   "metadata": {},
   "outputs": [
    {
     "name": "stdout",
     "output_type": "stream",
     "text": [
      "[[18 13  9 20  7]\n",
      " [ 1 11  4 14 25]\n",
      " [16 17 13 14 18]\n",
      " [ 2 18  1 19  6]\n",
      " [25 13 17 16 24]]\n",
      "2\n",
      "13.64\n",
      "14.0\n",
      "6.94\n",
      "48.23\n",
      "[[ 0.628 -0.092 -0.668  0.916 -0.956]\n",
      " [-1.82  -0.38  -1.388  0.052  1.636]\n",
      " [ 0.34   0.484 -0.092  0.052  0.628]\n",
      " [-1.676  0.628 -1.82   0.772 -1.1  ]\n",
      " [ 1.636 -0.092  0.484  0.34   1.492]]\n"
     ]
    }
   ],
   "source": [
    "\n",
    "arr=np.random.randint(1,26,size=(5,5))\n",
    "print(arr)\n",
    "print(np.ndim(arr))\n",
    "mean=np.mean(arr)\n",
    "print(mean)\n",
    "std=np.std(arr)\n",
    "median=np.median(arr)\n",
    "print(median)\n",
    "print(std.round(2))\n",
    "variance=np.var(arr)\n",
    "print(variance.round(2))\n"
   ]
  },
  {
   "cell_type": "markdown",
   "id": "072c14c1",
   "metadata": {},
   "source": [
    "2. Create a NumPy array of shape (3, 3) with values from 1 to 9. Normalize the array (i.e., scale the values to have a mean of 0 and a standard deviation of 1)."
   ]
  },
  {
   "cell_type": "code",
   "execution_count": 35,
   "id": "18fe20d3",
   "metadata": {},
   "outputs": [
    {
     "name": "stdout",
     "output_type": "stream",
     "text": [
      "[[9 3 7]\n",
      " [3 7 7]\n",
      " [3 5 7]]\n",
      "[[-0.668 -1.532 -0.956]\n",
      " [-1.532 -0.956 -0.956]\n",
      " [-1.532 -1.244 -0.956]]\n"
     ]
    }
   ],
   "source": [
    "\n",
    "arr=np.random.randint(1,10,size=(3,3))\n",
    "print(arr)\n",
    "normalized=(arr-mean)/std\n",
    "print(normalized.round(3))"
   ]
  },
  {
   "cell_type": "markdown",
   "id": "17af2e5e",
   "metadata": {},
   "source": [
    "### Assignment 5: Broadcasting\n",
    "\n",
    "1. Create a NumPy array of shape (3, 3) filled with random integers. Add a 1D array of shape (3,) to each row of the 2D array using broadcasting."
   ]
  },
  {
   "cell_type": "code",
   "execution_count": 33,
   "id": "6be01c5b",
   "metadata": {},
   "outputs": [
    {
     "name": "stdout",
     "output_type": "stream",
     "text": [
      "[[1 2 3]\n",
      " [3 4 5]]\n",
      "[[11 22 33]\n",
      " [13 24 35]]\n"
     ]
    }
   ],
   "source": [
    "arr=np.array([[1,2,3],[3,4,5]])\n",
    "print(arr)\n",
    "arr2=np.array([10,20,30])\n",
    "print(arr+arr2)"
   ]
  },
  {
   "cell_type": "markdown",
   "id": "e0dcbec9",
   "metadata": {},
   "source": [
    "2. Create a NumPy array of shape (4, 4) filled with random integers. Subtract a 1D array of shape (4,) from each column of the 2D array using broadcasting."
   ]
  },
  {
   "cell_type": "code",
   "execution_count": 36,
   "id": "52ec224a",
   "metadata": {},
   "outputs": [
    {
     "name": "stdout",
     "output_type": "stream",
     "text": [
      "[[1 2 3]\n",
      " [3 4 5]]\n",
      "[[ -9 -18 -27]\n",
      " [ -7 -16 -25]]\n"
     ]
    }
   ],
   "source": [
    "arr=np.array([[1,2,3],[3,4,5]])\n",
    "print(arr)\n",
    "arr2=np.array([10,20,30])\n",
    "print(arr-arr2)"
   ]
  },
  {
   "cell_type": "markdown",
   "id": "fb861a99",
   "metadata": {},
   "source": [
    "### Assignment 6: Linear Algebra\n",
    "\n",
    "1. Create a NumPy array of shape (3, 3) representing a matrix. Compute its determinant, inverse, and eigenvalues.\n"
   ]
  },
  {
   "cell_type": "code",
   "execution_count": 82,
   "id": "caeac18d",
   "metadata": {},
   "outputs": [
    {
     "name": "stdout",
     "output_type": "stream",
     "text": [
      "Det:12.00\n",
      " inverse: \n",
      "[[ 0.25 -0.25  0.75]\n",
      " [ 0.08  0.58 -2.08]\n",
      " [-0.17 -0.17  1.17]] \n",
      " eigenValue:[8.27 2.   0.73]\n"
     ]
    }
   ],
   "source": [
    "A = np.array([[4, 2, 1],\n",
    "              [3, 5, 7],\n",
    "              [1, 1, 2]])\n",
    "\n",
    "det=np.linalg.det(A)\n",
    "inverse=np.linalg.inv(A)\n",
    "eigenValue=np.linalg.eigvals(A)\n",
    "\n",
    "print(f\"Det:{det:.2f}\\n inverse: \\n{inverse.round(2)} \\n eigenValue:{eigenValue.round(2)}\")\n",
    "\n"
   ]
  },
  {
   "cell_type": "markdown",
   "id": "320b94d9",
   "metadata": {},
   "source": [
    "2. Create two NumPy arrays of shape (2, 3) and (3, 2). Perform matrix multiplication on these arrays."
   ]
  },
  {
   "cell_type": "code",
   "execution_count": 84,
   "id": "6c574446",
   "metadata": {},
   "outputs": [
    {
     "name": "stdout",
     "output_type": "stream",
     "text": [
      "[[233  81]\n",
      " [126  41]]\n"
     ]
    }
   ],
   "source": [
    "arr1=np.random.randint(1,15,size=(2,3))\n",
    "arr2=np.random.randint(1,15,size=(3,2))\n",
    "mul=np.dot(arr1,arr2)\n",
    "print(mul)"
   ]
  },
  {
   "cell_type": "markdown",
   "id": "831a8ccf",
   "metadata": {},
   "source": [
    "### Assignment 7: Advanced Array Manipulation\n",
    "\n",
    "1. Create a NumPy array of shape (3, 3) with values from 1 to 9. Reshape the array to shape (1, 9) and then to shape (9, 1)."
   ]
  },
  {
   "cell_type": "code",
   "execution_count": 85,
   "id": "1ea5f4e5",
   "metadata": {},
   "outputs": [
    {
     "name": "stdout",
     "output_type": "stream",
     "text": [
      "[[1 1 3]\n",
      " [9 6 1]\n",
      " [2 9 5]]\n",
      "(3, 3)\n",
      "(1, 9)\n",
      "2\n",
      "[[1]\n",
      " [1]\n",
      " [3]\n",
      " [9]\n",
      " [6]\n",
      " [1]\n",
      " [2]\n",
      " [9]\n",
      " [5]]\n"
     ]
    }
   ],
   "source": [
    "\n",
    "arr=np.random.randint(1,10,size=(3,3))\n",
    "print(arr)\n",
    "print(arr.shape)\n",
    "reshape_arr=arr.reshape (1,9)\n",
    "print(reshape_arr.shape)\n",
    "print(np.ndim(reshape_arr))\n",
    "again_reshape=reshape_arr.reshape(9,1)\n",
    "print(again_reshape)\n"
   ]
  },
  {
   "cell_type": "markdown",
   "id": "90035a41",
   "metadata": {},
   "source": [
    "2. Create a NumPy array of shape (5, 5) filled with random integers. Flatten the array and then reshape it back to (5, 5)."
   ]
  },
  {
   "cell_type": "code",
   "execution_count": 88,
   "id": "95575d0c",
   "metadata": {},
   "outputs": [
    {
     "name": "stdout",
     "output_type": "stream",
     "text": [
      "[[9 5 1 2 4]\n",
      " [6 5 9 6 9]\n",
      " [3 1 8 4 9]\n",
      " [4 3 3 1 3]\n",
      " [6 1 6 7 4]]\n",
      "Flatten array:  [9 5 1 2 4 6 5 9 6 9 3 1 8 4 9 4 3 3 1 3 6 1 6 7 4]\n",
      "return array as 5*5: [[9 5 1 2 4]\n",
      " [6 5 9 6 9]\n",
      " [3 1 8 4 9]\n",
      " [4 3 3 1 3]\n",
      " [6 1 6 7 4]]\n"
     ]
    }
   ],
   "source": [
    "arr=np.random.randint(1,10,size=(5,5))\n",
    "print(arr)\n",
    "\n",
    "flatten_arr=arr.flatten()\n",
    "print('Flatten array: ',flatten_arr)\n",
    "\n",
    "return_arr=flatten_arr.reshape(5,5)\n",
    "print(\"return array as 5*5:\",return_arr)\n"
   ]
  },
  {
   "cell_type": "markdown",
   "id": "16b171ca",
   "metadata": {},
   "source": [
    "### Assignment 8: Fancy Indexing and Boolean Indexing\n",
    "\n",
    "1. Create a NumPy array of shape (5, 5) filled with random integers. Use fancy indexing to extract the elements at the corners of the array."
   ]
  },
  {
   "cell_type": "code",
   "execution_count": 89,
   "id": "7065b65e",
   "metadata": {},
   "outputs": [
    {
     "name": "stdout",
     "output_type": "stream",
     "text": [
      "Original Array:\n",
      " [[96  3 16 40 60]\n",
      " [ 7 76 43 16 51]\n",
      " [18 75 74 26 95]\n",
      " [74 53 48 98 42]\n",
      " [52 31 80 66 27]]\n",
      "[96 60 52 27]\n"
     ]
    }
   ],
   "source": [
    "arr = np.random.randint(1, 101, size=(5, 5))\n",
    "print(\"Original Array:\\n\", arr)\n",
    "\n",
    "corner_rows=[0,0,4,4]\n",
    "corner_colms=[0,4,0,4]\n",
    "\n",
    "corners=arr[corner_rows,corner_colms]\n",
    "\n",
    "print(corners)"
   ]
  },
  {
   "cell_type": "markdown",
   "id": "770b4cea",
   "metadata": {},
   "source": [
    "2. Create a NumPy array of shape (4, 4) filled with random integers. Use boolean indexing to set all elements greater than 10 to 10."
   ]
  },
  {
   "cell_type": "code",
   "execution_count": 91,
   "id": "949acba5",
   "metadata": {},
   "outputs": [
    {
     "name": "stdout",
     "output_type": "stream",
     "text": [
      "orginaal array  [[22 91 99 74]\n",
      " [13 92 45 87]\n",
      " [88 25 58 79]\n",
      " [67  9 69  1]]\n",
      "[[10 10 10 10]\n",
      " [10 10 10 10]\n",
      " [10 10 10 10]\n",
      " [10  9 10  1]]\n"
     ]
    }
   ],
   "source": [
    "arr = np.random.randint(1, 101, size=(4, 4))\n",
    "\n",
    "print('orginaal array ',arr)\n",
    "\n",
    "arr[arr>10]=10\n",
    "print(arr)\n"
   ]
  },
  {
   "cell_type": "markdown",
   "id": "9dd7ee5a",
   "metadata": {},
   "source": [
    "### Assignment 9: Structured Arrays\n",
    "\n",
    "1. Create a structured array with fields 'name' (string), 'age' (integer), and 'weight' (float). Add some data and sort the array by age."
   ]
  },
  {
   "cell_type": "code",
   "execution_count": 94,
   "id": "8a988d32",
   "metadata": {},
   "outputs": [
    {
     "name": "stdout",
     "output_type": "stream",
     "text": [
      "Original array:\n",
      "[('Alice', 25, 68.5) ('Bob', 22, 75. ) ('Charlie', 30, 80.2)\n",
      " ('Diana', 28, 55. )]\n",
      "\n",
      "Sorted array by age:\n",
      "[('Bob', 22, 75. ) ('Alice', 25, 68.5) ('Diana', 28, 55. )\n",
      " ('Charlie', 30, 80.2)]\n"
     ]
    }
   ],
   "source": [
    "dtype = [('name', 'U10'),   \n",
    "         ('age', 'i4'),    \n",
    "         ('weight', 'f4')]  \n",
    "\n",
    "data=np.array([ ('Alice', 25, 68.5),\n",
    "    ('Bob', 22, 75.0),\n",
    "    ('Charlie', 30, 80.2),\n",
    "    ('Diana', 28, 55.0)],dtype= dtype)\n",
    "\n",
    "print(\"Original array:\")\n",
    "print(data)\n",
    "\n",
    "sorted_data=np.sort(data,order='age')\n",
    "print(\"\\nSorted array by age:\")\n",
    "print(sorted_data)"
   ]
  },
  {
   "cell_type": "markdown",
   "id": "0cc26e49",
   "metadata": {},
   "source": [
    "2. Create a structured array with fields 'x' and 'y' (both integers). Add some data and compute the Euclidean distance between each pair of points."
   ]
  },
  {
   "cell_type": "code",
   "execution_count": 95,
   "id": "9a5fa8a0",
   "metadata": {},
   "outputs": [
    {
     "name": "stdout",
     "output_type": "stream",
     "text": [
      "Points:\n",
      "[(1, 2) (4, 6) (5, 1) (7, 8)]\n",
      "\n",
      "Euclidean distance matrix:\n",
      "[[0.   5.   4.12 8.49]\n",
      " [5.   0.   5.1  3.61]\n",
      " [4.12 5.1  0.   7.28]\n",
      " [8.49 3.61 7.28 0.  ]]\n"
     ]
    }
   ],
   "source": [
    "dtype = [('x', 'i4'), ('y', 'i4')]\n",
    "\n",
    "points = np.array([\n",
    "    (1, 2),\n",
    "    (4, 6),\n",
    "    (5, 1),\n",
    "    (7, 8)\n",
    "], dtype=dtype)\n",
    "\n",
    "print(\"Points:\")\n",
    "print(points)\n",
    "\n",
    "# Step 2: Extract x and y as separate arrays for vectorized operations\n",
    "x = points['x']\n",
    "y = points['y']\n",
    "\n",
    "# Compute distance matrix using broadcasting\n",
    "dx = x[:, np.newaxis] - x[np.newaxis, :]\n",
    "dy = y[:, np.newaxis] - y[np.newaxis, :]\n",
    "dist_matrix = np.sqrt(dx**2 + dy**2)\n",
    "\n",
    "print(\"\\nEuclidean distance matrix:\")\n",
    "print(np.round(dist_matrix, 2))"
   ]
  },
  {
   "cell_type": "markdown",
   "id": "5e72d11c",
   "metadata": {},
   "source": [
    "### Assignment 10: Masked Arrays\n",
    "\n",
    "1. Create a masked array of shape (4, 4) with random integers and mask the elements greater than 10. Compute the sum of the unmasked elements."
   ]
  },
  {
   "cell_type": "code",
   "execution_count": 99,
   "id": "9f2cf047",
   "metadata": {},
   "outputs": [
    {
     "name": "stdout",
     "output_type": "stream",
     "text": [
      "\n",
      "Masked Array (elements > 10 are masked):\n",
      " [[10 -- -- --]\n",
      " [-- 3 -- 6]\n",
      " [-- 3 -- --]\n",
      " [3 -- -- 8]]\n",
      "5.5\n",
      "\n",
      "Masked Array with mean:\n",
      " [[10  5  5  5]\n",
      " [ 5  3  5  6]\n",
      " [ 5  3  5  5]\n",
      " [ 3  5  5  8]]\n"
     ]
    }
   ],
   "source": [
    "import numpy.ma as ma\n",
    "arr = np.random.randint(1, 21, size=(4, 4))\n",
    "masked_array=ma.masked_greater(arr,10)\n",
    "print(\"\\nMasked Array (elements > 10 are masked):\\n\", masked_array)\n",
    "mean=masked_array.mean()\n",
    "print(mean)\n",
    "\n",
    "fill_mask=masked_array.filled(mean)\n",
    "print(\"\\nMasked Array with mean:\\n\", fill_mask)\n"
   ]
  },
  {
   "cell_type": "markdown",
   "id": "b687f16d",
   "metadata": {},
   "source": [
    "2. Create a masked array of shape (3, 3) with random integers and mask the diagonal elements. Replace the masked elements with the mean of the unmasked elements."
   ]
  },
  {
   "cell_type": "code",
   "execution_count": 100,
   "id": "0993c1bb",
   "metadata": {},
   "outputs": [
    {
     "name": "stdout",
     "output_type": "stream",
     "text": [
      "[1 2 3 -- 5]\n",
      "2.75\n"
     ]
    }
   ],
   "source": [
    "\n",
    "arr = np.array([1, 2, 3, -1, 5])\n",
    "masked_arr =ma.masked_less(arr,0) \n",
    "\n",
    "print(masked_arr)\n",
    "print(masked_arr.mean())"
   ]
  }
 ],
 "metadata": {
  "kernelspec": {
   "display_name": "venv",
   "language": "python",
   "name": "python3"
  },
  "language_info": {
   "codemirror_mode": {
    "name": "ipython",
    "version": 3
   },
   "file_extension": ".py",
   "mimetype": "text/x-python",
   "name": "python",
   "nbconvert_exporter": "python",
   "pygments_lexer": "ipython3",
   "version": "3.13.0"
  }
 },
 "nbformat": 4,
 "nbformat_minor": 5
}
